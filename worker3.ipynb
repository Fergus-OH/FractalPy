{
 "cells": [
  {
   "cell_type": "code",
   "execution_count": 3,
   "metadata": {},
   "outputs": [
    {
     "name": "stdout",
     "output_type": "stream",
     "text": [
      "Object initialised, call plot() method to plot the image or save() method to save in images directory...\n",
      "iteration 170 completed...\n",
      "Object initialised, call plot() method to plot the image or save() method to save in images directory...\n",
      "iteration 171 completed...\n",
      "Object initialised, call plot() method to plot the image or save() method to save in images directory...\n",
      "iteration 172 completed...\n",
      "Object initialised, call plot() method to plot the image or save() method to save in images directory...\n",
      "iteration 173 completed...\n",
      "Object initialised, call plot() method to plot the image or save() method to save in images directory...\n",
      "iteration 174 completed...\n",
      "Object initialised, call plot() method to plot the image or save() method to save in images directory...\n",
      "iteration 175 completed...\n",
      "Object initialised, call plot() method to plot the image or save() method to save in images directory...\n",
      "iteration 176 completed...\n"
     ]
    },
    {
     "ename": "KeyboardInterrupt",
     "evalue": "",
     "output_type": "error",
     "traceback": [
      "\u001b[0;31m---------------------------------------------------------------------------\u001b[0m",
      "\u001b[0;31mKeyboardInterrupt\u001b[0m                         Traceback (most recent call last)",
      "Cell \u001b[0;32mIn [3], line 12\u001b[0m\n\u001b[1;32m     10\u001b[0m \u001b[39mfor\u001b[39;00m i \u001b[39min\u001b[39;00m \u001b[39mrange\u001b[39m(\u001b[39m170\u001b[39m, n_iters):\n\u001b[1;32m     11\u001b[0m     a \u001b[39m=\u001b[39m a_ran[i]\n\u001b[0;32m---> 12\u001b[0m     jul \u001b[39m=\u001b[39m Mandelbrot(mode\u001b[39m=\u001b[39;49m\u001b[39m'\u001b[39;49m\u001b[39mjulia\u001b[39;49m\u001b[39m'\u001b[39;49m, c\u001b[39m=\u001b[39;49m\u001b[39m0.7885\u001b[39;49m\u001b[39m*\u001b[39;49mnp\u001b[39m.\u001b[39;49mexp(\u001b[39m1\u001b[39;49mj\u001b[39m*\u001b[39;49ma), x_ran\u001b[39m=\u001b[39;49m(\u001b[39m-\u001b[39;49m\u001b[39m1.5\u001b[39;49m,\u001b[39m1.5\u001b[39;49m), y_ran\u001b[39m=\u001b[39;49m(\u001b[39m-\u001b[39;49m\u001b[39m1.5\u001b[39;49m,\u001b[39m1.5\u001b[39;49m), n_pts\u001b[39m=\u001b[39;49m\u001b[39m1000\u001b[39;49m)\n\u001b[1;32m     13\u001b[0m     jul\u001b[39m.\u001b[39msave(\u001b[39mf\u001b[39m\u001b[39m'\u001b[39m\u001b[39mspin3/image2_\u001b[39m\u001b[39m{\u001b[39;00mi\u001b[39m}\u001b[39;00m\u001b[39m'\u001b[39m)\n\u001b[1;32m     14\u001b[0m     \u001b[39mprint\u001b[39m(\u001b[39mf\u001b[39m\u001b[39m'\u001b[39m\u001b[39miteration \u001b[39m\u001b[39m{\u001b[39;00mi\u001b[39m}\u001b[39;00m\u001b[39m completed...\u001b[39m\u001b[39m'\u001b[39m)\n",
      "File \u001b[0;32m~/GitHub/mandelbrot-julia-sets/mandel.py:15\u001b[0m, in \u001b[0;36mMandelbrot.__init__\u001b[0;34m(self, mode, c, x_ran, y_ran, n_pts, threshold)\u001b[0m\n\u001b[1;32m     13\u001b[0m \u001b[39mself\u001b[39m\u001b[39m.\u001b[39mn_pts \u001b[39m=\u001b[39m n_pts\n\u001b[1;32m     14\u001b[0m \u001b[39mself\u001b[39m\u001b[39m.\u001b[39mthreshold \u001b[39m=\u001b[39m threshold\n\u001b[0;32m---> 15\u001b[0m \u001b[39mself\u001b[39m\u001b[39m.\u001b[39mcolor_chart \u001b[39m=\u001b[39m \u001b[39mself\u001b[39;49m\u001b[39m.\u001b[39;49m_determine_color_chart()\n\u001b[1;32m     17\u001b[0m \u001b[39m# self._mandelbrot()\u001b[39;00m\n\u001b[1;32m     18\u001b[0m \u001b[39mprint\u001b[39m(\u001b[39m'\u001b[39m\u001b[39mObject initialised, call plot() method to plot the image or save() method to save in images directory...\u001b[39m\u001b[39m'\u001b[39m)\n",
      "File \u001b[0;32m~/GitHub/mandelbrot-julia-sets/mandel.py:73\u001b[0m, in \u001b[0;36mMandelbrot._determine_color_chart\u001b[0;34m(self)\u001b[0m\n\u001b[1;32m     71\u001b[0m \u001b[39mfor\u001b[39;00m _ \u001b[39min\u001b[39;00m \u001b[39mrange\u001b[39m(\u001b[39mself\u001b[39m\u001b[39m.\u001b[39mthreshold):\n\u001b[1;32m     72\u001b[0m     zz[inds] \u001b[39m=\u001b[39m np\u001b[39m.\u001b[39mpower(zz[inds], \u001b[39m2\u001b[39m) \u001b[39m+\u001b[39m c[inds]\n\u001b[0;32m---> 73\u001b[0m     inds \u001b[39m=\u001b[39m \u001b[39m~\u001b[39mnp\u001b[39m.\u001b[39misinf(np\u001b[39m.\u001b[39;49mabs(zz))\n\u001b[1;32m     74\u001b[0m     color_chart[inds] \u001b[39m+\u001b[39m\u001b[39m=\u001b[39m \u001b[39m1\u001b[39m\n\u001b[1;32m     75\u001b[0m color_chart[inds] \u001b[39m=\u001b[39m \u001b[39m0\u001b[39m\n",
      "\u001b[0;31mKeyboardInterrupt\u001b[0m: "
     ]
    }
   ],
   "source": [
    "from mandel import Mandelbrot\n",
    "import os\n",
    "import numpy as np\n",
    "import matplotlib.pyplot as plt\n",
    "import imageio\n",
    "\n",
    "n_iters = 240\n",
    "a_ran = np.linspace(0, 2*np.pi, n_iters)\n",
    "\n",
    "for i in range(170, n_iters):\n",
    "    a = a_ran[i]\n",
    "    jul = Mandelbrot(mode='julia', c=0.7885*np.exp(1j*a), x_ran=(-1.5,1.5), y_ran=(-1.5,1.5), n_pts=1000)\n",
    "    jul.save(f'spin3/image2_{i}')\n",
    "    print(f'iteration {i} completed...')"
   ]
  },
  {
   "cell_type": "code",
   "execution_count": null,
   "metadata": {},
   "outputs": [],
   "source": []
  }
 ],
 "metadata": {
  "kernelspec": {
   "display_name": "Python 3.10.0 ('mandelbrot')",
   "language": "python",
   "name": "python3"
  },
  "language_info": {
   "codemirror_mode": {
    "name": "ipython",
    "version": 3
   },
   "file_extension": ".py",
   "mimetype": "text/x-python",
   "name": "python",
   "nbconvert_exporter": "python",
   "pygments_lexer": "ipython3",
   "version": "3.10.0"
  },
  "orig_nbformat": 4,
  "vscode": {
   "interpreter": {
    "hash": "5a18a89ac792cce518b4c2325d646c0c1ea1736d97e24513bfb2b292f171907c"
   }
  }
 },
 "nbformat": 4,
 "nbformat_minor": 2
}
