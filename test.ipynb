{
 "cells": [
  {
   "cell_type": "code",
   "execution_count": 1,
   "metadata": {},
   "outputs": [],
   "source": [
    "import numpy as np\n",
    "import matplotlib.pyplot as plt"
   ]
  },
  {
   "cell_type": "code",
   "execution_count": 64,
   "metadata": {},
   "outputs": [
    {
     "ename": "NameError",
     "evalue": "name 'reverse' is not defined",
     "output_type": "error",
     "traceback": [
      "\u001b[0;31m---------------------------------------------------------------------------\u001b[0m",
      "\u001b[0;31mNameError\u001b[0m                                 Traceback (most recent call last)",
      "Cell \u001b[0;32mIn [64], line 12\u001b[0m\n\u001b[1;32m      6\u001b[0m \u001b[39m# x_arr = (x0 + x1) - np.geomspace(x0, x1, n)\u001b[39;00m\n\u001b[1;32m      7\u001b[0m \u001b[39m# y_arr = np.array([2]*n)\u001b[39;00m\n\u001b[1;32m      8\u001b[0m \u001b[39m# plt.scatter(x_arr,y_arr)\u001b[39;00m\n\u001b[1;32m      9\u001b[0m \u001b[39m# plt.show()\u001b[39;00m\n\u001b[1;32m     11\u001b[0m geom \u001b[39m=\u001b[39m \u001b[39m2\u001b[39m \u001b[39m-\u001b[39m np\u001b[39m.\u001b[39mgeomspace(\u001b[39m1\u001b[39m, \u001b[39m2\u001b[39m, n)\n\u001b[0;32m---> 12\u001b[0m x_arr \u001b[39m=\u001b[39m x0 \u001b[39m+\u001b[39m reverse(geom)\u001b[39m*\u001b[39m(x1\u001b[39m-\u001b[39mx0)\n\u001b[1;32m     13\u001b[0m plt\u001b[39m.\u001b[39mscatter(x_arr,y_arr)\n\u001b[1;32m     14\u001b[0m plt\u001b[39m.\u001b[39mshow()\n",
      "\u001b[0;31mNameError\u001b[0m: name 'reverse' is not defined"
     ]
    }
   ],
   "source": [
    "x0 = -6\n",
    "x1 = 10\n",
    "n = 40\n",
    "\n",
    "\n",
    "# x_arr = (x0 + x1) - np.geomspace(x0, x1, n)\n",
    "# y_arr = np.array([2]*n)\n",
    "# plt.scatter(x_arr,y_arr)\n",
    "# plt.show()\n",
    "\n",
    "geom = 2 - np.geomspace(1, 2, n)\n",
    "x_arr = x0 + geom*(x1-x0)\n",
    "plt.scatter(x_arr,y_arr)\n",
    "plt.show()"
   ]
  },
  {
   "cell_type": "code",
   "execution_count": 2,
   "metadata": {},
   "outputs": [],
   "source": [
    "import matplotlib.pyplot as plt\n",
    "import numpy\n",
    "\n",
    "w = 7195\n",
    "h = 3841\n",
    "\n",
    "im_np = numpy.random.rand(h, w)\n",
    "\n",
    "# fig = plt.figure(frameon=False, figsize=(w/1000,h/1000))\n",
    "# ax = plt.Axes(fig, [0., 0., 1., 1.])\n",
    "# # ax.set_axis_off()\n",
    "# ax.axis('off')\n",
    "# fig.add_axes(ax)\n",
    "# ax.imshow(im_np, aspect='equal')\n",
    "# fig.savefig('figure.png', dpi=1000)\n",
    "\n",
    "\n",
    "# fig, ax = plt.subplots(figsize=(w/1000,h/1000))\n",
    "# # ax = plt.Axes(fig, [0., 0., 1., 1.])\n",
    "# ax.set_axis_off()\n",
    "# ax.imshow(im_np, aspect='equal')\n",
    "# fig.savefig('figure2.png', dpi=1000)"
   ]
  },
  {
   "cell_type": "code",
   "execution_count": 3,
   "metadata": {},
   "outputs": [],
   "source": [
    "plt.imsave(fname='figure3.png', format='png', arr=im_np)"
   ]
  },
  {
   "cell_type": "code",
   "execution_count": 6,
   "metadata": {},
   "outputs": [],
   "source": [
    "import numpy as np"
   ]
  },
  {
   "cell_type": "code",
   "execution_count": 7,
   "metadata": {},
   "outputs": [
    {
     "name": "stdout",
     "output_type": "stream",
     "text": [
      "[5 3 -- 3 1 3 --]\n"
     ]
    }
   ],
   "source": [
    "x = np.array([5,3,0,3,1,3,0])\n",
    "\n",
    "y = np.ma.masked_where(x==0, x)\n",
    "print(y)"
   ]
  },
  {
   "cell_type": "code",
   "execution_count": 121,
   "metadata": {},
   "outputs": [
    {
     "name": "stdout",
     "output_type": "stream",
     "text": [
      "[[0. 0. 0. 0. 0.]\n",
      " [0. 0. 0. 0. 0.]\n",
      " [0. 0. 0. 0. 0.]]\n",
      "[[ 0.  1.  2.  3.  4.]\n",
      " [ 0.  2.  4.  6.  8.]\n",
      " [ 0.  3.  6.  9. 12.]]\n"
     ]
    }
   ],
   "source": [
    "x = np.zeros((3,5))\n",
    "print(x)\n",
    "\n",
    "for i in range(3):\n",
    "    x[i] = [(i+1)*j for j in range(5)]\n",
    "print(x)"
   ]
  },
  {
   "cell_type": "code",
   "execution_count": 35,
   "metadata": {},
   "outputs": [],
   "source": [
    "def multip(x):\n",
    "    if np.isnan(np.abs(x)):\n",
    "        print('asdf')\n",
    "    return x*x"
   ]
  },
  {
   "cell_type": "code",
   "execution_count": 44,
   "metadata": {},
   "outputs": [],
   "source": [
    "mapfun = np.vectorize(multip)"
   ]
  },
  {
   "cell_type": "code",
   "execution_count": 52,
   "metadata": {},
   "outputs": [
    {
     "data": {
      "text/plain": [
       "0j"
      ]
     },
     "execution_count": 52,
     "metadata": {},
     "output_type": "execute_result"
    }
   ],
   "source": [
    "complex(0,0)**2"
   ]
  },
  {
   "cell_type": "code",
   "execution_count": 51,
   "metadata": {},
   "outputs": [
    {
     "name": "stdout",
     "output_type": "stream",
     "text": [
      "[[  0.   1.   4.   9.  16.]\n",
      " [  0.   4.  16.  36.  64.]\n",
      " [  0.   9.  36.  81. 144.]]\n"
     ]
    }
   ],
   "source": [
    "# y = mapfun(x)\n",
    "print(np.vectorize(multip)(x))"
   ]
  },
  {
   "cell_type": "code",
   "execution_count": 89,
   "metadata": {},
   "outputs": [
    {
     "name": "stdout",
     "output_type": "stream",
     "text": [
      "[[  0.   1.   4.   9.  16.]\n",
      " [  0.   4.  16.  36.  64.]\n",
      " [  0.   9.  36.  81. 144.]]\n"
     ]
    }
   ],
   "source": [
    "m = np.array([[multip(j) for j in i] for i in x])\n",
    "print(m)"
   ]
  }
 ],
 "metadata": {
  "kernelspec": {
   "display_name": "Python 3.10.0 ('mandelbrot')",
   "language": "python",
   "name": "python3"
  },
  "language_info": {
   "codemirror_mode": {
    "name": "ipython",
    "version": 3
   },
   "file_extension": ".py",
   "mimetype": "text/x-python",
   "name": "python",
   "nbconvert_exporter": "python",
   "pygments_lexer": "ipython3",
   "version": "3.10.0"
  },
  "orig_nbformat": 4,
  "vscode": {
   "interpreter": {
    "hash": "5a18a89ac792cce518b4c2325d646c0c1ea1736d97e24513bfb2b292f171907c"
   }
  }
 },
 "nbformat": 4,
 "nbformat_minor": 2
}
