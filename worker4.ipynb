{
 "cells": [
  {
   "cell_type": "code",
   "execution_count": 3,
   "metadata": {},
   "outputs": [
    {
     "name": "stdout",
     "output_type": "stream",
     "text": [
      "Object initialised, call plot() method to plot the image or save() method to save in images directory...\n",
      "iteration 234 completed...\n",
      "Object initialised, call plot() method to plot the image or save() method to save in images directory...\n",
      "iteration 235 completed...\n",
      "Object initialised, call plot() method to plot the image or save() method to save in images directory...\n",
      "iteration 236 completed...\n",
      "Object initialised, call plot() method to plot the image or save() method to save in images directory...\n",
      "iteration 237 completed...\n",
      "Object initialised, call plot() method to plot the image or save() method to save in images directory...\n",
      "iteration 238 completed...\n",
      "Object initialised, call plot() method to plot the image or save() method to save in images directory...\n",
      "iteration 239 completed...\n"
     ]
    }
   ],
   "source": [
    "from mandel import Mandelbrot\n",
    "import os\n",
    "import numpy as np\n",
    "import matplotlib.pyplot as plt\n",
    "import imageio\n",
    "\n",
    "n_iters = 240\n",
    "a_ran = np.linspace(0, 2*np.pi, n_iters)\n",
    "\n",
    "for i in range(234, n_iters):\n",
    "    a = a_ran[i]\n",
    "    jul = Mandelbrot(mode='julia', c=0.7885*np.exp(1j*a), x_ran=(-1.5,1.5), y_ran=(-1.5,1.5), n_pts=1000)\n",
    "    jul.save(f'spin3/image2_{i}')\n",
    "    print(f'iteration {i} completed...')"
   ]
  },
  {
   "cell_type": "code",
   "execution_count": null,
   "metadata": {},
   "outputs": [],
   "source": []
  }
 ],
 "metadata": {
  "kernelspec": {
   "display_name": "Python 3.10.0 ('mandelbrot')",
   "language": "python",
   "name": "python3"
  },
  "language_info": {
   "codemirror_mode": {
    "name": "ipython",
    "version": 3
   },
   "file_extension": ".py",
   "mimetype": "text/x-python",
   "name": "python",
   "nbconvert_exporter": "python",
   "pygments_lexer": "ipython3",
   "version": "3.10.0"
  },
  "orig_nbformat": 4,
  "vscode": {
   "interpreter": {
    "hash": "5a18a89ac792cce518b4c2325d646c0c1ea1736d97e24513bfb2b292f171907c"
   }
  }
 },
 "nbformat": 4,
 "nbformat_minor": 2
}
