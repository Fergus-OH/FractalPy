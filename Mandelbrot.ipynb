{
 "cells": [
  {
   "cell_type": "code",
   "execution_count": 1,
   "id": "missing-metropolitan",
   "metadata": {},
   "outputs": [],
   "source": [
    "import matplotlib.pyplot as plt\n",
    "import numpy as np"
   ]
  },
  {
   "cell_type": "code",
   "execution_count": 2,
   "id": "fabulous-statement",
   "metadata": {},
   "outputs": [],
   "source": [
    "def mandelbrot(c):\n",
    "    z = complex(0,0)\n",
    "    for i in range(1000):\n",
    "        z = z**2 + c\n",
    "    if not np.isnan(abs(z)):\n",
    "        return True\n",
    "    else:\n",
    "        return False"
   ]
  },
  {
   "cell_type": "code",
   "execution_count": null,
   "id": "cosmetic-butler",
   "metadata": {},
   "outputs": [
    {
     "name": "stderr",
     "output_type": "stream",
     "text": [
      "/var/folders/3p/sfv68y0d48x7855k_3bdlj8w0000gn/T/ipykernel_8320/2596705813.py:4: RuntimeWarning: overflow encountered in cdouble_scalars\n",
      "  z = z**2 + c\n",
      "/var/folders/3p/sfv68y0d48x7855k_3bdlj8w0000gn/T/ipykernel_8320/2596705813.py:4: RuntimeWarning: invalid value encountered in cdouble_scalars\n",
      "  z = z**2 + c\n"
     ]
    }
   ],
   "source": [
    "ar = np.linspace(-2,2,5000)\n",
    "init = np.array([ar + x*1j for x in ar]).flatten()\n",
    "\n",
    "mand = np.array([])\n",
    "for i in init:\n",
    "    if mandelbrot(i):\n",
    "        mand = np.append(mand, i)"
   ]
  },
  {
   "cell_type": "code",
   "execution_count": null,
   "id": "changed-premium",
   "metadata": {},
   "outputs": [],
   "source": [
    "X = [x.real for x in mand]\n",
    "Y = [x.imag for x in mand]\n",
    "\n",
    "plt.figure(figsize=(10,10))\n",
    "plt.scatter(X,Y, s=0.5, color='black')\n",
    "plt.show()"
   ]
  },
  {
   "cell_type": "code",
   "execution_count": null,
   "id": "selected-cocktail",
   "metadata": {},
   "outputs": [],
   "source": []
  }
 ],
 "metadata": {
  "kernelspec": {
   "display_name": "Python 3 (ipykernel)",
   "language": "python",
   "name": "python3"
  },
  "language_info": {
   "codemirror_mode": {
    "name": "ipython",
    "version": 3
   },
   "file_extension": ".py",
   "mimetype": "text/x-python",
   "name": "python",
   "nbconvert_exporter": "python",
   "pygments_lexer": "ipython3",
   "version": "3.9.7"
  }
 },
 "nbformat": 4,
 "nbformat_minor": 5
}
