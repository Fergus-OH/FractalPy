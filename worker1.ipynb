{
 "cells": [
  {
   "cell_type": "code",
   "execution_count": 1,
   "metadata": {},
   "outputs": [],
   "source": [
    "from mandel import Mandelbrot\n",
    "import os\n",
    "import numpy as np\n",
    "import matplotlib.pyplot as plt\n",
    "import imageio\n",
    "\n",
    "# n_iters = 240\n",
    "# a_ran = np.linspace(0, 2*np.pi, n_iters)\n",
    "\n",
    "# for i in range(0, n_iters):\n",
    "#     a = a_ran[i]\n",
    "#     jul = Mandelbrot(mode='julia', c=0.7885*np.exp(1j*a), x_ran=(-1.5,1.5), y_ran=(-1.5,1.5), n_pts=1000)\n",
    "#     jul.save(f'spin3/image2_{i}')\n",
    "#     print(f'iteration {i} completed...')"
   ]
  },
  {
   "cell_type": "code",
   "execution_count": null,
   "metadata": {},
   "outputs": [],
   "source": [
    "target = (62407000, -0.743643900055, -0.131825890901)\n",
    "manzoom = Mandelbrot(x_ran=(-3, 3), y_ran=(-1.6875, 1.6875), n_pts=3840, threshold=5000)"
   ]
  },
  {
   "cell_type": "code",
   "execution_count": null,
   "metadata": {},
   "outputs": [],
   "source": [
    "manzoom.zoom(filename='zoom_try_vid_huge', foldername='zoom_try', n_iters=1000, target=target, start_frame=500)"
   ]
  },
  {
   "cell_type": "code",
   "execution_count": 2,
   "metadata": {},
   "outputs": [
    {
     "name": "stderr",
     "output_type": "stream",
     "text": [
      "/Users/fergusohanlon/GitHub/mandelbrot-julia-sets/mandel.py:69: RuntimeWarning: overflow encountered in power\n",
      "  zz[inds] = np.power(zz[inds], 2) + c[inds]\n",
      "/Users/fergusohanlon/GitHub/mandelbrot-julia-sets/mandel.py:69: RuntimeWarning: invalid value encountered in power\n",
      "  zz[inds] = np.power(zz[inds], 2) + c[inds]\n",
      "/Users/fergusohanlon/GitHub/mandelbrot-julia-sets/mandel.py:70: RuntimeWarning: overflow encountered in absolute\n",
      "  inds = ~np.isinf(np.abs(zz))\n"
     ]
    },
    {
     "name": "stdout",
     "output_type": "stream",
     "text": [
      "Object initialised, call plot() method to plot the image or save() method to save in images directory...\n"
     ]
    }
   ],
   "source": [
    "jul = Mandelbrot(mode='julia')"
   ]
  },
  {
   "cell_type": "code",
   "execution_count": 3,
   "metadata": {},
   "outputs": [
    {
     "name": "stdout",
     "output_type": "stream",
     "text": [
      "iteration 0 completed...\n",
      "iteration 1 completed...\n",
      "iteration 2 completed...\n",
      "iteration 3 completed...\n",
      "iteration 4 completed...\n",
      "iteration 5 completed...\n",
      "iteration 6 completed...\n",
      "iteration 7 completed...\n",
      "iteration 8 completed...\n",
      "iteration 9 completed...\n",
      "iteration 10 completed...\n",
      "iteration 11 completed...\n",
      "iteration 12 completed...\n",
      "iteration 13 completed...\n",
      "iteration 14 completed...\n",
      "iteration 15 completed...\n",
      "iteration 16 completed...\n",
      "iteration 17 completed...\n",
      "iteration 18 completed...\n",
      "iteration 19 completed...\n",
      "completed. Video saved at...\n"
     ]
    }
   ],
   "source": [
    "jul.spin(filename='test', n_iters=20)"
   ]
  },
  {
   "cell_type": "code",
   "execution_count": null,
   "metadata": {},
   "outputs": [],
   "source": []
  }
 ],
 "metadata": {
  "kernelspec": {
   "display_name": "Python 3.10.0 ('mandelbrot')",
   "language": "python",
   "name": "python3"
  },
  "language_info": {
   "codemirror_mode": {
    "name": "ipython",
    "version": 3
   },
   "file_extension": ".py",
   "mimetype": "text/x-python",
   "name": "python",
   "nbconvert_exporter": "python",
   "pygments_lexer": "ipython3",
   "version": "3.10.0"
  },
  "orig_nbformat": 4,
  "vscode": {
   "interpreter": {
    "hash": "5a18a89ac792cce518b4c2325d646c0c1ea1736d97e24513bfb2b292f171907c"
   }
  }
 },
 "nbformat": 4,
 "nbformat_minor": 2
}
